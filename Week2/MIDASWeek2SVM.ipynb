{
  "nbformat": 4,
  "nbformat_minor": 0,
  "metadata": {
    "colab": {
      "name": "MIDASWeek2SVM.ipynb",
      "provenance": [],
      "authorship_tag": "ABX9TyMJ4p1Y2dQkeNKhLqN7eDD8",
      "include_colab_link": true
    },
    "kernelspec": {
      "name": "python3",
      "display_name": "Python 3"
    }
  },
  "cells": [
    {
      "cell_type": "markdown",
      "metadata": {
        "id": "view-in-github",
        "colab_type": "text"
      },
      "source": [
        "<a href=\"https://colab.research.google.com/github/DaasDaham/MIDASLearningAssignments/blob/master/MIDASWeek2SVM.ipynb\" target=\"_parent\"><img src=\"https://colab.research.google.com/assets/colab-badge.svg\" alt=\"Open In Colab\"/></a>"
      ]
    },
    {
      "cell_type": "code",
      "metadata": {
        "id": "IQ_xHL-bdR-w",
        "colab_type": "code",
        "colab": {
          "base_uri": "https://localhost:8080/",
          "height": 71
        },
        "outputId": "d9c06f5a-fb1d-4306-a5e5-a2d90cedcfa2"
      },
      "source": [
        "import sklearn\n",
        "import numpy as np\n",
        "import pandas as pd\n",
        "import matplotlib.pyplot as plt\n",
        "import seaborn as sns"
      ],
      "execution_count": 1,
      "outputs": [
        {
          "output_type": "stream",
          "text": [
            "/usr/local/lib/python3.6/dist-packages/statsmodels/tools/_testing.py:19: FutureWarning: pandas.util.testing is deprecated. Use the functions in the public API at pandas.testing instead.\n",
            "  import pandas.util.testing as tm\n"
          ],
          "name": "stderr"
        }
      ]
    },
    {
      "cell_type": "code",
      "metadata": {
        "id": "-qz8vTChdv28",
        "colab_type": "code",
        "colab": {
          "base_uri": "https://localhost:8080/",
          "height": 296
        },
        "outputId": "49ff6709-af7c-44d0-9168-0a2116ca0e75"
      },
      "source": [
        "%matplotlib inline\n",
        "from sklearn import datasets\n",
        "iris = datasets.load_iris()\n",
        "X = iris['data']\n",
        "Y = iris['target']\n",
        "df = pd.DataFrame(data=X, columns=[\"c1\", \"c2\", \"c3\", \"c4\"])\n",
        "sns.boxplot(x=\"variable\", y=\"value\", data=pd.melt(df))\n",
        "print(np.unique(Y,return_counts=True))"
      ],
      "execution_count": 2,
      "outputs": [
        {
          "output_type": "stream",
          "text": [
            "(array([0, 1, 2]), array([50, 50, 50]))\n"
          ],
          "name": "stdout"
        },
        {
          "output_type": "display_data",
          "data": {
            "image/png": "[encoded data removed]",
            "text/plain": [
              "<Figure size 432x288 with 1 Axes>"
            ]
          },
          "metadata": {
            "tags": [],
            "needs_background": "light"
          }
        }
      ]
    },
    {
      "cell_type": "code",
      "metadata": {
        "id": "WgFnA2XmlBbc",
        "colab_type": "code",
        "colab": {
          "base_uri": "https://localhost:8080/",
          "height": 34
        },
        "outputId": "50c59bb6-0b4e-4c9f-f9bc-a3d2f1ca6fa5"
      },
      "source": [
        "from sklearn.model_selection import train_test_split\n",
        "from sklearn.svm import SVC\n",
        "from sklearn.metrics import accuracy_score\n",
        "from sklearn.metrics import f1_score\n",
        "from sklearn.metrics import confusion_matrix\n",
        "from sklearn.model_selection import GridSearchCV\n",
        "\n",
        "X_train, X_test, y_train, y_test = train_test_split(X,Y, shuffle=True)\n",
        "model = SVC()\n",
        "hyper_params = [{'kernel':['rbf'],'gamma':[0.0001,0.001,0.01,0.1,1,10],'C': [0.01,0.1,1, 10, 100, 1000]},{'kernel': ['linear'], 'C': [0.01,0.1,1, 10, 100, 1000]}, {'kernel':['poly'],'C':[0.01,0.1,1, 10, 100, 1000], 'degree':[2,3,4,5,6,7]}]\n",
        "clf = GridSearchCV(model, hyper_params)\n",
        "clf.fit(iris.data, iris.target)\n",
        "print(clf.best_params_)"
      ],
      "execution_count": 3,
      "outputs": [
        {
          "output_type": "stream",
          "text": [
            "{'C': 0.1, 'degree': 3, 'kernel': 'poly'}\n"
          ],
          "name": "stdout"
        }
      ]
    },
    {
      "cell_type": "code",
      "metadata": {
        "id": "wmLhCLbn5eJy",
        "colab_type": "code",
        "colab": {
          "base_uri": "https://localhost:8080/",
          "height": 119
        },
        "outputId": "d78de9e8-2e7d-4dd8-8791-29f39bf8f813"
      },
      "source": [
        "model = SVC()\n",
        "model.fit(X_train,y_train)\n",
        "y_pred = model.predict(X_test)\n",
        "print(\"Accuracy\",accuracy_score(y_test,y_pred))\n",
        "print(\"F1 Score\",f1_score(y_test,y_pred,average=None))\n",
        "print(\"Confusion Matrix\\n\",confusion_matrix(y_test,y_pred))"
      ],
      "execution_count": 4,
      "outputs": [
        {
          "output_type": "stream",
          "text": [
            "Accuracy 1.0\n",
            "F1 Score [1. 1. 1.]\n",
            "Confusion Matrix\n",
            " [[17  0  0]\n",
            " [ 0 11  0]\n",
            " [ 0  0 10]]\n"
          ],
          "name": "stdout"
        }
      ]
    },
    {
      "cell_type": "code",
      "metadata": {
        "id": "ZaUzJIAs6dJn",
        "colab_type": "code",
        "colab": {}
      },
      "source": [
        ""
      ],
      "execution_count": null,
      "outputs": []
    }
  ]
}